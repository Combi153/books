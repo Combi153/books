{
 "cells": [
  {
   "cell_type": "markdown",
   "metadata": {},
   "source": [
    "# 들어가는 글"
   ]
  },
  {
   "cell_type": "markdown",
   "metadata": {},
   "source": [
    "알고리즘 :\n",
    "- 어떤 문제를 풀기 위한 절차나 방법\n",
    "- 주어진 '입력'을 '출력'으로 만드는 과정\n",
    "- 예시, 절대값 구하기\n",
    "\n",
    "알고리즘 분석 :\n",
    "- 알고리즘의 성능이나 특징을 분석하는 것\n",
    "- 한 가지 문제를 푸는 여러 가지 알고리즘 중에 상황에 맞는 적당한 알고리즘을 고르기 위해 필요"
   ]
  },
  {
   "cell_type": "markdown",
   "metadata": {},
   "source": [
    "## a의 절대값 구하기\n",
    "\n",
    "1. 부호 판단 방법\n",
    "    - a가 0보다 크거나 같으면, a 출력\n",
    "    - a가 0보다 작다면, -a 출력\n",
    "\n",
    "2. 제곱 후 제곱근 방법\n",
    "    - a를 제곱해서 변수 b에 저장\n",
    "    - b에 제곱근을 취해 출력"
   ]
  },
  {
   "cell_type": "code",
   "execution_count": 1,
   "metadata": {},
   "outputs": [
    {
     "name": "stdout",
     "output_type": "stream",
     "text": [
      "3\n",
      "5\n",
      "5.0\n",
      "1.0\n"
     ]
    }
   ],
   "source": [
    "import math\n",
    "\n",
    "def abs_sign(a):\n",
    "    if a >= 0:\n",
    "        return a\n",
    "    elif a < 0:\n",
    "        return -a\n",
    "\n",
    "def abs_square_sqrt(a):\n",
    "    b=a**2\n",
    "    return math.sqrt(b)\n",
    "\n",
    "print(abs_sign(-3))\n",
    "print(abs_sign(5))\n",
    "print(abs_square_sqrt(-5))\n",
    "print(abs_square_sqrt(1))"
   ]
  },
  {
   "cell_type": "markdown",
   "metadata": {},
   "source": [
    "# 첫째 마당 : 알고리즘 기초"
   ]
  },
  {
   "cell_type": "markdown",
   "metadata": {},
   "source": [
    "## 문제01 : 1부터 n까지 합 구하기"
   ]
  },
  {
   "cell_type": "markdown",
   "metadata": {},
   "source": [
    "1. 1부터 n까지 차례로 반복해서 합하기"
   ]
  },
  {
   "cell_type": "code",
   "execution_count": 2,
   "metadata": {},
   "outputs": [
    {
     "name": "stdout",
     "output_type": "stream",
     "text": [
      "5050\n"
     ]
    }
   ],
   "source": [
    "def sum_sequentially(n):\n",
    "    sum_n=0\n",
    "    for i in range(1,n+1):\n",
    "        sum_n= sum_n + i\n",
    "\n",
    "    return sum_n\n",
    "\n",
    "print(sum_sequentially(100))"
   ]
  },
  {
   "cell_type": "markdown",
   "metadata": {},
   "source": [
    "2. 합의 공식 이용하기\n",
    "    - 가우스의 일화\n",
    "    - 수의 양 끝부터 중앙으로 더하고, 그 수를 세기 $$n(n+1)\\over 2$$"
   ]
  },
  {
   "cell_type": "code",
   "execution_count": 5,
   "metadata": {},
   "outputs": [
    {
     "name": "stdout",
     "output_type": "stream",
     "text": [
      "5050.0\n"
     ]
    }
   ],
   "source": [
    "def sum_formula(n):\n",
    "    return n*(n+1)/2\n",
    "\n",
    "print(sum_formula(100))"
   ]
  },
  {
   "cell_type": "markdown",
   "metadata": {},
   "source": [
    "두 알고리즘의 비교\n",
    "   - 첫 번째 알고리즘 : 입력 크기가 클수록 계산 횟수가 커진다.\n",
    "    - n이 10이면 10번 계산, n이 100이면 100번 계산\n",
    "    - 덧셈 n번\n",
    "    - 시간 복잡도 O(n)\n",
    "\n",
    "- 두 번째 알고리즘 : 입력 크기 n과 무관하게 계산 횟수가 정해져있다.\n",
    "    - n과 관계없이 덧셈, 곱셈, 나눗셈 한 번씩 하면 된다.\n",
    "    - 덧셈, 곱셈, 나눗셈 총 세 번\n",
    "    - 시간 복잡도 O(1)"
   ]
  },
  {
   "cell_type": "markdown",
   "metadata": {},
   "source": [
    "### 계산 복잡도 (complexity)"
   ]
  },
  {
   "cell_type": "markdown",
   "metadata": {},
   "source": [
    "알고리즘의 계산복잡도는 시간 복잡도와 공간 복잡도로 나눈다.\n",
    "- 시간 복잡도 : 어떤 알고리즘을 수행하는 데 걸리는 시간의 분석\n",
    "- 공간 복잡도 : 어떤 알고리즘을 수행하는 데 드는 공간(메모리)의 분석\n",
    "- 이후 이 책에서는 별다른 말이 없는 한 계산복잡도는 시간복잡도를 의미한다."
   ]
  },
  {
   "cell_type": "markdown",
   "metadata": {},
   "source": [
    "### 연습문제"
   ]
  },
  {
   "cell_type": "markdown",
   "metadata": {},
   "source": [
    "1. 1부터 n까지 연속한 숫자의 제곱의 합 구하기\n",
    "    - 차례대로 제곱해서 더하기\n",
    "    - 공식 활용 $$n(n+1)(2n+1)\\over 6$$"
   ]
  },
  {
   "cell_type": "code",
   "execution_count": 7,
   "metadata": {},
   "outputs": [
    {
     "name": "stdout",
     "output_type": "stream",
     "text": [
      "385\n",
      "385.0\n"
     ]
    }
   ],
   "source": [
    "def sum_squared(n):\n",
    "    sum_n=0\n",
    "    for i in range(1,n+1):\n",
    "        sum_n = sum_n + (i**2)\n",
    "    return sum_n\n",
    "\n",
    "def sum_squared_formular(n):\n",
    "    return (n*(n+1)*(2*n+1))/6\n",
    "\n",
    "print(sum_squared(10))\n",
    "print(sum_squared_formular(10))"
   ]
  },
  {
   "cell_type": "markdown",
   "metadata": {},
   "source": [
    "2. 연습문제 1의 계산 복잡도는?\n",
    "\n",
    "- sum_squared : O(n)\n",
    "    - 곱셈 n번, 덧셈 n번 필요\n",
    "- sum_sqaured_formular : O(1)"
   ]
  },
  {
   "cell_type": "markdown",
   "metadata": {},
   "source": [
    "## 문제 02 : 최댓값 찾기"
   ]
  },
  {
   "cell_type": "markdown",
   "metadata": {},
   "source": [
    "17,92,18,33,58,7,33,42 중 최댓값을 찾는 알고리즘\n",
    "- 첫 번째 숫자 17을 최댓값으로 기억\n",
    "- 다음 숫자와 현재 최댓값 17과 비교  \n",
    "다음 숫자가 더 크다면 다음 숫자를 최댓값으로 기억, 아니라면 지나감\n",
    "- 이러한 과정을 42까지 반복"
   ]
  },
  {
   "cell_type": "code",
   "execution_count": 8,
   "metadata": {},
   "outputs": [
    {
     "name": "stdout",
     "output_type": "stream",
     "text": [
      "92\n"
     ]
    }
   ],
   "source": [
    "def find_max(n_list):\n",
    "    max_num=n_list[0]\n",
    "    for i in range(len(n_list)-1):\n",
    "        if max_num >= n_list[i+1]:\n",
    "            continue\n",
    "        else:\n",
    "            max_num=n_list[i+1]\n",
    "    return max_num\n",
    "\n",
    "numbers=[17,92,18,33,58,7,33,42]\n",
    "print(find_max(numbers))\n",
    "            "
   ]
  },
  {
   "cell_type": "markdown",
   "metadata": {},
   "source": [
    "계산 복잡도 구하기\n",
    "- 숫자 리스트의 요수 개수 8개\n",
    "- 7번 비교 연산을 해아한다.\n",
    "- O(n-1) = O(n), O(n)이다."
   ]
  },
  {
   "cell_type": "markdown",
   "metadata": {},
   "source": [
    "숫자 리스트 중 최댓값의 인덱스를 찾는 알고리즘"
   ]
  },
  {
   "cell_type": "code",
   "execution_count": 10,
   "metadata": {},
   "outputs": [
    {
     "name": "stdout",
     "output_type": "stream",
     "text": [
      "1\n"
     ]
    }
   ],
   "source": [
    "#내가 푼 것\n",
    "def find_max_idx(n_list):\n",
    "    max_num=n_list[0]\n",
    "    for i in range(1,len(n_list)):\n",
    "        if n_list[i] > max_num:\n",
    "            max_num=n_list[i]\n",
    "            max_idx=i\n",
    "    \n",
    "    return max_idx\n",
    "\n",
    "numbers=[17,92,18,33,58,7,33,42]\n",
    "print(find_max_idx(numbers))"
   ]
  },
  {
   "cell_type": "code",
   "execution_count": 11,
   "metadata": {},
   "outputs": [
    {
     "name": "stdout",
     "output_type": "stream",
     "text": [
      "1\n"
     ]
    }
   ],
   "source": [
    "#교재 답\n",
    "def find_max_idx(n_list):\n",
    "    max_idx=0\n",
    "    for i in range(1,len(n_list)):\n",
    "        if n_list[i] > n_list[max_idx]:\n",
    "            max_idx=i\n",
    "    \n",
    "    return max_idx\n",
    "\n",
    "numbers=[17,92,18,33,58,7,33,42]\n",
    "print(find_max_idx(numbers))"
   ]
  },
  {
   "cell_type": "markdown",
   "metadata": {},
   "source": [
    "### 연습문제"
   ]
  },
  {
   "cell_type": "markdown",
   "metadata": {},
   "source": [
    "1. 숫자 n개를 리스트로 입력받아 최솟값을 구하는 프로그램"
   ]
  },
  {
   "cell_type": "code",
   "execution_count": 12,
   "metadata": {},
   "outputs": [
    {
     "name": "stdout",
     "output_type": "stream",
     "text": [
      "7\n"
     ]
    }
   ],
   "source": [
    "def find_min(n_list):\n",
    "    min_num=n_list[0]\n",
    "\n",
    "    for i in range(1,len(n_list)):\n",
    "        if min_num > n_list[i]:\n",
    "            min_num=n_list[i]\n",
    "\n",
    "    return min_num\n",
    "\n",
    "numbers=[17,92,18,33,58,7,33,42]\n",
    "print(find_min(numbers))"
   ]
  },
  {
   "cell_type": "markdown",
   "metadata": {},
   "source": [
    "## 문제 03 동명이인 찾기 ①"
   ]
  },
  {
   "cell_type": "markdown",
   "metadata": {},
   "source": [
    "이름이 담긴 리스트 ['Tom','Jerry','Mike','Tom']이 입력된다.  \n",
    "반복되는 이름의 집합을 출력한다."
   ]
  },
  {
   "cell_type": "markdown",
   "metadata": {},
   "source": [
    "1. Tom을 뒤에 Jerry, Mike, Tom과 비교한다.\n",
    "    - 두 이름이 다르면 지나간다.\n",
    "    - 두 이름이 같다면 집합에 추가한다.\n",
    "2. Jerry를 뒤에 Mike, Tom과 비교한다.\n",
    "3. 반복한다."
   ]
  },
  {
   "cell_type": "code",
   "execution_count": 15,
   "metadata": {},
   "outputs": [
    {
     "name": "stdout",
     "output_type": "stream",
     "text": [
      "{'Tom'}\n",
      "{'Tom', 'Mike'}\n"
     ]
    }
   ],
   "source": [
    "def find_same_name(name_list):\n",
    "    n=len(name_list)\n",
    "    same_name=set()\n",
    "    for i in range(0,n-1):\n",
    "        name=name_list[i]\n",
    "        for j in range(i+1,n):\n",
    "            if name == name_list[j]:\n",
    "                same_name.add(name_list[j])\n",
    "    return same_name\n",
    "\n",
    "names=['Tom','Jerry','Mike','Tom']\n",
    "print(find_same_name(names))\n",
    "names2=['Tom','Jerry','Mike','Tom','Mike']\n",
    "print(find_same_name(names2))"
   ]
  },
  {
   "cell_type": "markdown",
   "metadata": {},
   "source": [
    "계산 복잡도 구하기\n",
    "- 이름 리스트의 입력 크기 n에 대해\n",
    "    - 인덱스 0의 이름 : n-1 비교 (자기 자신 제외 뒤 모든 이름과 비교)\n",
    "    - 인덱스 1의 이름 : n-2 비교  \n",
    "                ...\n",
    "    - 인덱스 n-1의 이름 : 0 비교\n",
    "    - 전체비교 횟수 : 1부터 n-1까지의 합 $\\frac{(n-1)n}{2} = \\frac{1}{2}n^2 - \\frac{1}{2}n$\n",
    "\n",
    "- 따라서 O($n^2$)"
   ]
  },
  {
   "cell_type": "markdown",
   "metadata": {},
   "source": [
    "### 연습문제"
   ]
  },
  {
   "cell_type": "markdown",
   "metadata": {},
   "source": [
    "1. n명 중 두 명을 뽑아 짝을 짓는다. 짝을 지을 수 있는 모든 조합을 출력하라"
   ]
  },
  {
   "cell_type": "code",
   "execution_count": 18,
   "metadata": {},
   "outputs": [
    {
     "name": "stdout",
     "output_type": "stream",
     "text": [
      "Tom - Jerry\n",
      "Tom - Mike\n",
      "Jerry - Mike\n"
     ]
    }
   ],
   "source": [
    "def print_pairs(name_list):\n",
    "    n=len(name_list)\n",
    "    for i in range(0,n-1):\n",
    "        for j in range(i+1,n):\n",
    "            print(name_list[i], '-',name_list[j])\n",
    "\n",
    "names=['Tom','Jerry','Mike']\n",
    "print_pairs(names)"
   ]
  },
  {
   "cell_type": "markdown",
   "metadata": {},
   "source": [
    "2. 다음 식을 대문자 O 표기법으로 표현하라.\n",
    "\n",
    "- 65536 : O(1)\n",
    "- n-1 : O(n)\n",
    "- $\\frac{2n^2}{3}+10000n$ : O($n^2$)\n",
    "- $3n^4-4n^3$ : O($n^4$)\n"
   ]
  }
 ],
 "metadata": {
  "kernelspec": {
   "display_name": "Python 3.10.5 64-bit",
   "language": "python",
   "name": "python3"
  },
  "language_info": {
   "codemirror_mode": {
    "name": "ipython",
    "version": 3
   },
   "file_extension": ".py",
   "mimetype": "text/x-python",
   "name": "python",
   "nbconvert_exporter": "python",
   "pygments_lexer": "ipython3",
   "version": "3.10.5"
  },
  "orig_nbformat": 4,
  "vscode": {
   "interpreter": {
    "hash": "3b73bbac0916b1ec0ba594196a0e2a690610daf3e27e0d2ff201ec69ed0faaed"
   }
  }
 },
 "nbformat": 4,
 "nbformat_minor": 2
}
