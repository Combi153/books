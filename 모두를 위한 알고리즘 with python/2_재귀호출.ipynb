{
 "cells": [
  {
   "cell_type": "markdown",
   "metadata": {},
   "source": [
    "# 둘째 마당 : 재귀 호출"
   ]
  },
  {
   "cell_type": "markdown",
   "metadata": {},
   "source": [
    "## 문제 04 : 팩토리얼 구하기\n"
   ]
  },
  {
   "cell_type": "markdown",
   "metadata": {},
   "source": [
    "1부터 n까지 연속한 정수의 곱을 구하는 알고리즘\n",
    "- 일반적인 방식\n",
    "- 재귀 이용 방식"
   ]
  },
  {
   "cell_type": "code",
   "execution_count": 2,
   "metadata": {},
   "outputs": [
    {
     "name": "stdout",
     "output_type": "stream",
     "text": [
      "120\n"
     ]
    }
   ],
   "source": [
    "# 일반적인 방식\n",
    "\n",
    "def fact(n):\n",
    "    num=1\n",
    "    for i in range(2,n+1):\n",
    "        num=num*i\n",
    "\n",
    "    return num\n",
    "\n",
    "print(fact(5))"
   ]
  },
  {
   "cell_type": "code",
   "execution_count": null,
   "metadata": {},
   "outputs": [],
   "source": [
    "# 일반적인 방식 2\n",
    "\n",
    "def fact(n):\n",
    "    value=n\n",
    "    for i in range(1,n):\n",
    "        value=value*(n-i)\n",
    "    return value\n",
    "\n",
    "print(fact(5))"
   ]
  },
  {
   "cell_type": "markdown",
   "metadata": {},
   "source": [
    "### 재귀 호출\n",
    "- 재귀 호출(recursion) : 어떤 함수 안에서 자기 자신을 부르는 것\n",
    "- 예시 hello 반복 프로그램\n",
    "- 재귀 호출 함수가 계산 결과를 돌려줄 때는 return 명령을 사용해서 종료 조건의 결과값을 돌려준다."
   ]
  },
  {
   "cell_type": "code",
   "execution_count": null,
   "metadata": {},
   "outputs": [],
   "source": [
    "#재귀 호출의 일반적인 형태\n",
    "\n",
    "def func(value):\n",
    "    if value < 1 :#condition : 예를 들어, value가 충분히 작은 경우\n",
    "        return #결과 return\n",
    "\n",
    "    func(value-1) #함수 자기 자신 호출\n",
    "                  #value가 서서히 줄어드는 형태\n",
    "\n",
    "    return #결과 return"
   ]
  },
  {
   "cell_type": "code",
   "execution_count": 2,
   "metadata": {},
   "outputs": [
    {
     "name": "stdout",
     "output_type": "stream",
     "text": [
      "hello\n",
      "hello\n",
      "hello\n"
     ]
    }
   ],
   "source": [
    "#예시 hello 반복 프로그램\n",
    "\n",
    "def hello(n):\n",
    "    if n <= 1:\n",
    "        return print('hello') \n",
    "    print('hello')\n",
    "    \n",
    "    return hello(n-1)\n",
    "\n",
    "hello(3)"
   ]
  },
  {
   "cell_type": "code",
   "execution_count": null,
   "metadata": {},
   "outputs": [],
   "source": [
    "## 복습 중 다시 짜본 코드\n",
    "## 짜기 나름일까? 어떤 형식을 갖추는 것이 좋을까?\n",
    "\n",
    "def hello(n):\n",
    "    if n <= 1 :\n",
    "        return print('hello')\n",
    "    else:\n",
    "        hello(n-1)\n",
    "        print('hello')\n",
    "\n",
    "hello(5)"
   ]
  },
  {
   "cell_type": "markdown",
   "metadata": {},
   "source": [
    "팩토리얼로 재귀 호출 알고리즘 보기\n",
    "- $1!=1$\n",
    "- $2!=2 \\times 1 = 2 \\times 1!$\n",
    "- $3!=3 \\times (2\\times1)=3\\times 2!$\n",
    "- $n!=n\\times (n-1)!$ <- 팩토리얼을 구하기 위해 다시 팩토리얼을 구함"
   ]
  },
  {
   "cell_type": "code",
   "execution_count": 1,
   "metadata": {},
   "outputs": [
    {
     "name": "stdout",
     "output_type": "stream",
     "text": [
      "120\n"
     ]
    }
   ],
   "source": [
    "#재귀 함수를 이용한 팩토리얼 구하기\n",
    "\n",
    "def fact(n):\n",
    "    if n <= 1:\n",
    "        return 1\n",
    "    return n*fact(n-1)\n",
    "\n",
    "print(fact(5))\n",
    "    "
   ]
  },
  {
   "cell_type": "markdown",
   "metadata": {},
   "source": [
    "재귀 호출 알고리즘 파악하기\n",
    "- fact(4)\n",
    "    - 4*fact(3)\n",
    "        - 3*fact(2)\n",
    "            - 2*fact(1)\n",
    "                - 1 (종료 조건)\n",
    "            - 2*1\n",
    "        - 3*2*1\n",
    "    - 4*3*2*1\n",
    "- return 24"
   ]
  },
  {
   "cell_type": "markdown",
   "metadata": {},
   "source": [
    "계산복잡도\n",
    "- 일반적인 방식 (for 문)\n",
    "    - 입력 n에 대해 곱셉 n-1번 필요\n",
    "    -  O(n)\n",
    "- 재귀함수 방식\n",
    "    - 입력 n에 대해 곱셉 n-1번 필요\n",
    "    - O(n) "
   ]
  },
  {
   "cell_type": "markdown",
   "metadata": {},
   "source": [
    "### 연습문제"
   ]
  },
  {
   "cell_type": "markdown",
   "metadata": {},
   "source": [
    "1. 1부터 n까지의 합 재귀 호출로 만들기"
   ]
  },
  {
   "cell_type": "code",
   "execution_count": 3,
   "metadata": {},
   "outputs": [
    {
     "name": "stdout",
     "output_type": "stream",
     "text": [
      "55\n"
     ]
    }
   ],
   "source": [
    "def sum_n(n):\n",
    "    if n <=1:\n",
    "        return 1\n",
    "    return n+sum_n(n-1)\n",
    "\n",
    "print(sum_n(10))"
   ]
  },
  {
   "cell_type": "markdown",
   "metadata": {},
   "source": [
    "2. 숫자 n개 중 최댓값 찾기를 재귀 호출로 만들기"
   ]
  },
  {
   "cell_type": "markdown",
   "metadata": {},
   "source": [
    "- 내가 푼 것\n",
    "    - pop을 활용해 앞에서부터 접근\n",
    "    - 전체에서 pop(0)과 find_max(num_list) 비교\n",
    "    - pop으로 인해 num_list의 요소가 계속해서 지워짐\n",
    "    - num_list의 요소의 수가 1일 때 종료\n",
    "\n",
    "- pop, max 등의 함수를 사용하는 것이 계산복잡도를 올릴 가능성?\n",
    "    - 최대한 함수없이 풀이해보기"
   ]
  },
  {
   "cell_type": "code",
   "execution_count": 3,
   "metadata": {},
   "outputs": [
    {
     "name": "stdout",
     "output_type": "stream",
     "text": [
      "92\n"
     ]
    }
   ],
   "source": [
    "#내가 푼 것\n",
    "def find_max(num_list):\n",
    "    \n",
    "    if len(num_list)<=1:\n",
    "        return num_list.pop(0)\n",
    "\n",
    "    return max(num_list.pop(0),find_max(num_list))\n",
    "\n",
    "numbers=[17,92,18,33,58,7,33,42]\n",
    "print(find_max(numbers))"
   ]
  },
  {
   "cell_type": "code",
   "execution_count": 4,
   "metadata": {},
   "outputs": [
    {
     "name": "stdout",
     "output_type": "stream",
     "text": [
      "92\n"
     ]
    }
   ],
   "source": [
    "def find_max(num_list):\n",
    "    if len(num_list) ==1 :\n",
    "        return num_list.pop(0)\n",
    "\n",
    "    num_1=num_list.pop(0)\n",
    "    num_2=find_max(num_list)\n",
    "\n",
    "    if num_1 > num_2:\n",
    "        return num_1\n",
    "    else:\n",
    "        return num_2\n",
    "\n",
    "numbers=[17,92,18,33,58,7,33,42]\n",
    "print(find_max(numbers))\n"
   ]
  },
  {
   "cell_type": "code",
   "execution_count": 1,
   "metadata": {},
   "outputs": [
    {
     "name": "stdout",
     "output_type": "stream",
     "text": [
      "92\n"
     ]
    }
   ],
   "source": [
    "def find_max(n):\n",
    "    if len(n)<=1:\n",
    "        return n[0]\n",
    "\n",
    "    elif n[0] > find_max(n[1:]):\n",
    "        return n[0]\n",
    "    else :\n",
    "        return find_max(n[1:])\n",
    "\n",
    "numbers=[17,92,18,33,58,7,33,42]\n",
    "print(find_max(numbers))"
   ]
  },
  {
   "cell_type": "markdown",
   "metadata": {},
   "source": [
    "- 정답지\n",
    "    - 뒤에서부터 거꾸로 접근\n",
    "    - 전체에서 find_max(a,n) -> find_max(a,n-1)과 a[n-1] 중 큰 값\n",
    "        - find_max(a,n-1) -> find_max(a,n-2)와 a[n-2] 중 큰 값\n",
    "            - 반복\n",
    "                - n == 1: 종료, return a[0]\n",
    "            - 비교"
   ]
  },
  {
   "cell_type": "code",
   "execution_count": null,
   "metadata": {},
   "outputs": [],
   "source": [
    "#정답지\n",
    "def find_max(a,n):\n",
    "    if n == 1:\n",
    "        return a[0]\n",
    "    \n",
    "    max_n_1=find_max(a,n-1)\n",
    "\n",
    "    if max_n_1 > a[n-1]:\n",
    "        return max_n_1\n",
    "    else:\n",
    "        return a[n-1]"
   ]
  },
  {
   "cell_type": "markdown",
   "metadata": {},
   "source": [
    "## 문제 05 : 최대공약수 구하기"
   ]
  },
  {
   "cell_type": "markdown",
   "metadata": {},
   "source": [
    "두 자연수 a와 b의 최대공약수를 구하는 알고리즘\n",
    "- 최대공약수(Greatest Common Divisor) : 두 개 이상의 정수의 공통 약수 중에서 가장 큰 값"
   ]
  },
  {
   "cell_type": "markdown",
   "metadata": {},
   "source": [
    "첫번째 알고리즘\n",
    "1. 두 수 중 작은 값을 num에 저장\n",
    "2. num이 두 수의 공약수인지 확인\n",
    "3. num이 두 수의 공약수라면 num를 return, 아니라면 num-1을 하고 num-1이 두 수의 공약수인지 다시 확인\n",
    "4. num==1 이 되면 1을 return하고 종료"
   ]
  },
  {
   "cell_type": "code",
   "execution_count": 16,
   "metadata": {},
   "outputs": [
    {
     "name": "stdout",
     "output_type": "stream",
     "text": [
      "5\n"
     ]
    }
   ],
   "source": [
    "#내가 푼 것\n",
    "def gcd(a,b):\n",
    "    num=min(a,b)\n",
    "\n",
    "    while num!=1:\n",
    "        if (a%num==0)&(b%num==0):\n",
    "            return num\n",
    "        num -=1    \n",
    "    else:\n",
    "        return num\n",
    "\n",
    "print(gcd(125,35))"
   ]
  },
  {
   "cell_type": "code",
   "execution_count": 2,
   "metadata": {},
   "outputs": [
    {
     "name": "stdout",
     "output_type": "stream",
     "text": [
      "5\n"
     ]
    }
   ],
   "source": [
    "# min 함수없이 풀기\n",
    "def gcd(a,b):\n",
    "    if a > b:\n",
    "        num=a\n",
    "    else:\n",
    "        num=b\n",
    "\n",
    "    while True:\n",
    "        if (a%num==0)&(b%num==0):\n",
    "            return num\n",
    "        num-=1\n",
    "        \n",
    "\n",
    "print(gcd(125,35))"
   ]
  },
  {
   "cell_type": "code",
   "execution_count": 18,
   "metadata": {},
   "outputs": [
    {
     "name": "stdout",
     "output_type": "stream",
     "text": [
      "5\n"
     ]
    }
   ],
   "source": [
    "#책 -> 제일 간단한듯!\n",
    "def gcd(a,b):\n",
    "    num=min(a,b)\n",
    "\n",
    "    while True:\n",
    "        if (a%num==0)&(b%num==0):\n",
    "            return num\n",
    "        num-=1\n",
    "\n",
    "print(gcd(125,35))"
   ]
  },
  {
   "cell_type": "code",
   "execution_count": null,
   "metadata": {},
   "outputs": [
    {
     "name": "stdout",
     "output_type": "stream",
     "text": [
      "5\n"
     ]
    }
   ],
   "source": [
    "#꾸역꾸역 재귀로도 만들어보기\n",
    "def gcd(a,b):\n",
    "    global i\n",
    "    num_1=min(a,b)-i\n",
    "    num_2=max(a,b)\n",
    "    i+=1\n",
    "    \n",
    "    if num_1 ==1:\n",
    "        return 1\n",
    "    \n",
    "    elif (a%num_1==0)&(b%num_1==0):\n",
    "        return num_1\n",
    "    else:\n",
    "        return gcd(a,b)\n",
    "\n",
    "i=0\n",
    "print(gcd(125,35))"
   ]
  },
  {
   "cell_type": "markdown",
   "metadata": {},
   "source": [
    "두 번째 알고리즘 : 유클리드 알고리즘\n",
    "- 수학자 유클리드가 발견한 최대공약수의 성질\n",
    "- a와 b의 최대공약수는 'b'와 'a를 b로 나눈 나머지'의 최대공약수와 같다.\n",
    "- 즉, gcd(a,b)==gcd(b,a%b)\n",
    "- 어떤 수와 0의 최대공약수는 자기 자신이다. 즉, gcd(n,0)==n\n",
    "- 이러한 성질을 통해 재귀로 최대공약수를 구해보자."
   ]
  },
  {
   "cell_type": "code",
   "execution_count": 22,
   "metadata": {},
   "outputs": [
    {
     "name": "stdout",
     "output_type": "stream",
     "text": [
      "1\n",
      "5\n",
      "25\n"
     ]
    }
   ],
   "source": [
    "def gcd(a,b):\n",
    "    if b == 0:\n",
    "        return a\n",
    "    return gcd(b,a%b)\n",
    "\n",
    "print(gcd(1,5))\n",
    "print(gcd(25,5))\n",
    "print(gcd(25,125))"
   ]
  },
  {
   "cell_type": "markdown",
   "metadata": {},
   "source": [
    "### 연습문제"
   ]
  },
  {
   "cell_type": "markdown",
   "metadata": {},
   "source": [
    "1. 피보나치 수열에서 n번째 피보나치 수를 구하는 알고리즘을 재귀 호출을 이용해서 구현하세요\n",
    "- 피보나치 수열 : 0과 1부터 시작해서 바로 앞의 두 수를 더한 값을 다음 값으로 추가하는 방식으로 만든 수열\n",
    "- 0,1,1,2,3,5,8,13,21,34,55...\n",
    "- n이 3일 때 출력 2"
   ]
  },
  {
   "cell_type": "code",
   "execution_count": 27,
   "metadata": {},
   "outputs": [
    {
     "name": "stdout",
     "output_type": "stream",
     "text": [
      "13\n",
      "2\n",
      "55\n"
     ]
    }
   ],
   "source": [
    "def fibo(n):\n",
    "    \n",
    "    if n <=1:\n",
    "        return n\n",
    "    return fibo(n-1)+fibo(n-2)\n",
    "\n",
    "print(fibo(7))\n",
    "print(fibo(3))\n",
    "print(fibo(10))"
   ]
  },
  {
   "cell_type": "markdown",
   "metadata": {},
   "source": [
    "## 문제 06 : 하노이의 탑 옮기기"
   ]
  },
  {
   "cell_type": "markdown",
   "metadata": {},
   "source": [
    "원반이 n개인 하노이의 탑을 옮기기 위한 원반 이동 순서를 출력하는 알고리즘 만들기"
   ]
  },
  {
   "cell_type": "markdown",
   "metadata": {},
   "source": [
    "원반이 한 개 일 때 :\n",
    "- 1번 기둥의 원반을 3번 기둥의 원반으로 옮기면 끝 (1->3)\n",
    "\n",
    "원반이 두 개 일 때 :\n",
    "- 1번 기둥의 맨 위 원반을 2번 기둥으로 옮기기 (1->2)\n",
    "- 1번 기둥의 남은 원반을 3번 기둥으로 옮기기 (1->3)\n",
    "- 2번 기둥의 원반을 3번 기둥으로 옮기기 (2->3)\n",
    "\n",
    "원반이 세 개 일 때 :\n",
    "- 1번 기둥 맨 위 원반을 3번 기둥으로 옮기기 (1->3)\n",
    "- 1번 기둥 두번째 원반을 2번 기둥으로 옮기기\n",
    "- 3번 기둥의 원반을 2번 기둥으로 옮기기\n",
    "- 1번 기둥의 원반을 3번 기둥으로 옮기기\n",
    "- 2번 기둥의 맨 위 원반을 1번 기둥으로 옮기기\n",
    "- 2번 기둥의 남은 원반을 3번 기둥으로 옮기기\n",
    "- 1번 기둥의 원반을 3번 기둥으로 옮기기\n",
    "\n",
    "원반이 세 개 일 때 (다시 표현) :\n",
    "- 1번 기둥의 원반 두 개를 원반이 두 개 일때와 같은 방식으로 2번 기둥으로 옮기기\n",
    "- 1번 기둥의 마지막 원반을 3번 기둥으로 옮기기\n",
    "- 2번 기둥의 원반 두 개를 원반이 두 개 일 때와 같은 방식으로 3번 기둥으로 옮기기\n",
    "\n",
    "원반이 n 개 일 때 : 일반화\n",
    "- 1번 기둥의 원반 n-1 개를 2번 기둥으로 옮기기\n",
    "- 1번 기둥의 마지막 원반을 3번 기둥으로 옮기기\n",
    "- 2번 기둥의 원반 n-1 개를 3번 기둥으로 옮기기"
   ]
  },
  {
   "cell_type": "markdown",
   "metadata": {},
   "source": [
    "- 내가 푼 것"
   ]
  },
  {
   "cell_type": "code",
   "execution_count": 3,
   "metadata": {},
   "outputs": [
    {
     "name": "stdout",
     "output_type": "stream",
     "text": [
      "1 -> 3\n",
      "\n",
      "1 -> 2\n",
      "1 -> 3\n",
      "2 -> 3\n",
      "\n",
      "1 -> 3\n",
      "1 -> 2\n",
      "3 -> 2\n",
      "1 -> 3\n",
      "2 -> 1\n",
      "2 -> 3\n",
      "1 -> 3\n"
     ]
    }
   ],
   "source": [
    "#하노이의 탑\n",
    "# 입력 : 옮기려는 원반의 수 n, 옮길 원반이 현재 있는 출발점 기둥 from_pos, 원반을 옮길 도착점 기둥 to_pos, 보조 기둥 aux_pos\n",
    "# 출력 : 원반을 옮기는 순서\n",
    "\n",
    "def hanoi(n,from_pos,to_pos,aux_pos):\n",
    "    if n == 1:\n",
    "        #마지막 한 개 from에서 to로 옮기기\n",
    "        return print(from_pos,'->',to_pos)\n",
    "    \n",
    "    #n-1개 from에서 aux로 옮기기\n",
    "    hanoi(n-1,from_pos,aux_pos,to_pos)\n",
    "    #마지막 한 개 from에서 to로 옮기기\n",
    "    hanoi(1,from_pos,to_pos,aux_pos)\n",
    "    #n-1개 다시 aux에서 from로 옮기기\n",
    "    hanoi(n-1,aux_pos,to_pos,from_pos)\n",
    "\n",
    "hanoi(1,1,3,2)\n",
    "\n",
    "print()\n",
    "hanoi(2,1,3,2)\n",
    "\n",
    "print()\n",
    "hanoi(3,1,3,2)"
   ]
  },
  {
   "cell_type": "markdown",
   "metadata": {},
   "source": [
    "- 책\n",
    "- 깔끔하다!"
   ]
  },
  {
   "cell_type": "code",
   "execution_count": 4,
   "metadata": {},
   "outputs": [
    {
     "name": "stdout",
     "output_type": "stream",
     "text": [
      "1 -> 3\n",
      "\n",
      "1 -> 2\n",
      "1 -> 3\n",
      "2 -> 3\n",
      "\n",
      "1 -> 3\n",
      "1 -> 2\n",
      "3 -> 2\n",
      "1 -> 3\n",
      "2 -> 1\n",
      "2 -> 3\n",
      "1 -> 3\n"
     ]
    }
   ],
   "source": [
    "#하노이의 탑\n",
    "# 입력 : 옮기려는 원반의 수 n, 옮길 원반이 현재 있는 출발점 기둥 from_pos, 원반을 옮길 도착점 기둥 to_pos, 보조 기둥 aux_pos\n",
    "# 출력 : 원반을 옮기는 순서\n",
    "\n",
    "def hanoi(n,from_pos,to_pos,aux_pos):\n",
    "    if n == 1:\n",
    "        #원반 한 개 from에서 to로 옮기기\n",
    "        return print(from_pos,'->',to_pos)\n",
    "    \n",
    "    #n-1개 from에서 aux로 옮기기\n",
    "    hanoi(n-1,from_pos,aux_pos,to_pos)\n",
    "    #가장 큰 원반 from에서 to로 옮기기\n",
    "    print(from_pos,'->',to_pos)\n",
    "    #n-1개 다시 aux에서 from로 옮기기\n",
    "    hanoi(n-1,aux_pos,to_pos,from_pos)\n",
    "\n",
    "hanoi(1,1,3,2)\n",
    "\n",
    "print()\n",
    "hanoi(2,1,3,2)\n",
    "\n",
    "print()\n",
    "hanoi(3,1,3,2)"
   ]
  },
  {
   "cell_type": "markdown",
   "metadata": {},
   "source": [
    "알고리즘 분석\n",
    "- 1층 하노이 탑 : 이동 횟수 1회\n",
    "- 2층 하노이 탑 : 이동 횟수 3회\n",
    "- 3층 하노이 탑 : 이동 횟수 7회\n",
    "- 4층 하노이 탑 : 이동 횟수 15회\n",
    "- n층 하노이 탑 : 이동 횟수 $2^n -1$회\n",
    "\n",
    "계산복잡도 : $O(2^n)$"
   ]
  },
  {
   "cell_type": "markdown",
   "metadata": {},
   "source": [
    "### 연습문제 생략"
   ]
  }
 ],
 "metadata": {
  "kernelspec": {
   "display_name": "Python 3.10.5 64-bit",
   "language": "python",
   "name": "python3"
  },
  "language_info": {
   "codemirror_mode": {
    "name": "ipython",
    "version": 3
   },
   "file_extension": ".py",
   "mimetype": "text/x-python",
   "name": "python",
   "nbconvert_exporter": "python",
   "pygments_lexer": "ipython3",
   "version": "3.10.5"
  },
  "orig_nbformat": 4,
  "vscode": {
   "interpreter": {
    "hash": "3b73bbac0916b1ec0ba594196a0e2a690610daf3e27e0d2ff201ec69ed0faaed"
   }
  }
 },
 "nbformat": 4,
 "nbformat_minor": 2
}
