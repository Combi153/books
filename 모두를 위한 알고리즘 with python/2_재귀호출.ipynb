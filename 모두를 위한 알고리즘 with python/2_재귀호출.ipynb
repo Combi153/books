{
 "cells": [
  {
   "cell_type": "markdown",
   "metadata": {},
   "source": [
    "# 둘째 마당 : 재귀 호출"
   ]
  },
  {
   "cell_type": "markdown",
   "metadata": {},
   "source": [
    "## 문제 04 : 팩토리얼 구하기\n"
   ]
  },
  {
   "cell_type": "markdown",
   "metadata": {},
   "source": [
    "1부터 n까지 연속한 정수의 곱을 구하는 알고리즘\n",
    "- 일반적인 방식\n",
    "- 재귀 이용 방식"
   ]
  },
  {
   "cell_type": "code",
   "execution_count": 2,
   "metadata": {},
   "outputs": [
    {
     "name": "stdout",
     "output_type": "stream",
     "text": [
      "120\n"
     ]
    }
   ],
   "source": [
    "# 일반적인 방식\n",
    "\n",
    "def fact(n):\n",
    "    num=1\n",
    "    for i in range(2,n+1):\n",
    "        num=num*i\n",
    "\n",
    "    return num\n",
    "\n",
    "print(fact(5))"
   ]
  },
  {
   "cell_type": "markdown",
   "metadata": {},
   "source": [
    "### 재귀 호출\n",
    "- 재귀 호출(recursion) : 어떤 함수 안에서 자기 자신을 부르는 것\n",
    "- 예시 hello 반복 프로그램\n",
    "- 재귀 호출 함수가 계산 결과를 돌려줄 때는 return 명령을 사용해서 종료 조건의 결과값을 돌려준다."
   ]
  },
  {
   "cell_type": "code",
   "execution_count": null,
   "metadata": {},
   "outputs": [],
   "source": [
    "#재귀 호출의 일반적인 형태\n",
    "\n",
    "def func(value):\n",
    "    if value < 1 :#any_condition #value가 충분히 작으면\n",
    "        return #결과\n",
    "\n",
    "    func(value-1) #함수 자기 자신 호출\n",
    "\n",
    "    return #결과값"
   ]
  },
  {
   "cell_type": "code",
   "execution_count": 2,
   "metadata": {},
   "outputs": [
    {
     "name": "stdout",
     "output_type": "stream",
     "text": [
      "hello\n",
      "hello\n",
      "hello\n"
     ]
    }
   ],
   "source": [
    "#예시 hello 반복 프로그램\n",
    "\n",
    "def hello(n):\n",
    "    if n <= 1:\n",
    "        return print('hello') \n",
    "    print('hello')\n",
    "    \n",
    "    return hello(n-1)\n",
    "\n",
    "hello(3)"
   ]
  },
  {
   "cell_type": "markdown",
   "metadata": {},
   "source": [
    "팩토리얼로 재귀 호출 알고리즘 보기\n",
    "- $1!=1$\n",
    "- $2!=2 \\times 1 = 2 \\times 1!$\n",
    "- $3!=3 \\times (2\\times1)=3\\times 2!$\n",
    "- $n!=n\\times (n-1)!$ <- 팩토리얼을 구하기 위해 다시 팩토리얼을 구함"
   ]
  },
  {
   "cell_type": "code",
   "execution_count": 1,
   "metadata": {},
   "outputs": [
    {
     "name": "stdout",
     "output_type": "stream",
     "text": [
      "120\n"
     ]
    }
   ],
   "source": [
    "#재귀 함수를 이용한 팩토리얼 구하기\n",
    "\n",
    "def fact(n):\n",
    "    if n <= 1:\n",
    "        return 1\n",
    "    return n*fact(n-1)\n",
    "\n",
    "print(fact(5))\n",
    "    "
   ]
  },
  {
   "cell_type": "markdown",
   "metadata": {},
   "source": [
    "재귀 호출 알고리즘 파악하기\n",
    "- fact(4)\n",
    "    - 4*fact(3)\n",
    "        - 3*fact(2)\n",
    "            - 2*fact(1)\n",
    "                - 1 (종료 조건)\n",
    "            - 2*1\n",
    "        - 3*2*1\n",
    "    - 4*3*2*1\n",
    "- return 24"
   ]
  },
  {
   "cell_type": "markdown",
   "metadata": {},
   "source": [
    "계산복잡도\n",
    "- 일반적인 방식 (for 문)\n",
    "    - 입력 n에 대해 곱셉 n-1번 필요\n",
    "    -  O(n)\n",
    "- 재귀함수 방식\n",
    "    - 입력 n에 대해 곱셉 n-1번 필요\n",
    "    - O(n) "
   ]
  },
  {
   "cell_type": "markdown",
   "metadata": {},
   "source": [
    "### 연습문제"
   ]
  },
  {
   "cell_type": "markdown",
   "metadata": {},
   "source": [
    "1. 1부터 n까지의 합 재귀 호출로 만들기"
   ]
  },
  {
   "cell_type": "code",
   "execution_count": 3,
   "metadata": {},
   "outputs": [
    {
     "name": "stdout",
     "output_type": "stream",
     "text": [
      "55\n"
     ]
    }
   ],
   "source": [
    "def sum_n(n):\n",
    "    if n <=1:\n",
    "        return 1\n",
    "    return n+sum_n(n-1)\n",
    "\n",
    "print(sum_n(10))"
   ]
  },
  {
   "cell_type": "markdown",
   "metadata": {},
   "source": [
    "2. 숫자 n개 중 최댓값 찾기를 재귀 호출로 만들기"
   ]
  },
  {
   "cell_type": "code",
   "execution_count": null,
   "metadata": {},
   "outputs": [],
   "source": [
    "def find_max(num_list):\n",
    "    n=len(num_list)\n",
    "    if :\n",
    "        return \n",
    "\n",
    "    max_num=num_list[n]\n",
    "\n",
    "\n",
    "\n",
    "numbers=[17,92,18,33,58,7,33,42]\n",
    "print(find_max(numbers))"
   ]
  }
 ],
 "metadata": {
  "kernelspec": {
   "display_name": "Python 3.10.5 64-bit",
   "language": "python",
   "name": "python3"
  },
  "language_info": {
   "codemirror_mode": {
    "name": "ipython",
    "version": 3
   },
   "file_extension": ".py",
   "mimetype": "text/x-python",
   "name": "python",
   "nbconvert_exporter": "python",
   "pygments_lexer": "ipython3",
   "version": "3.10.5"
  },
  "orig_nbformat": 4,
  "vscode": {
   "interpreter": {
    "hash": "3b73bbac0916b1ec0ba594196a0e2a690610daf3e27e0d2ff201ec69ed0faaed"
   }
  }
 },
 "nbformat": 4,
 "nbformat_minor": 2
}
