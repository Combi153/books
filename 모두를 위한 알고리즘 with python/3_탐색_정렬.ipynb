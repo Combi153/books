{
 "cells": [
  {
   "cell_type": "code",
   "execution_count": null,
   "metadata": {},
   "outputs": [],
   "source": []
  },
  {
   "cell_type": "markdown",
   "metadata": {},
   "source": [
    "# 셋째 마당 : 탐색과 정렬"
   ]
  },
  {
   "cell_type": "markdown",
   "metadata": {},
   "source": [
    "순차 탐색"
   ]
  },
  {
   "cell_type": "code",
   "execution_count": 3,
   "metadata": {},
   "outputs": [
    {
     "name": "stdout",
     "output_type": "stream",
     "text": [
      "2\n",
      "-1\n"
     ]
    }
   ],
   "source": [
    "def search_list(listName, element):\n",
    "    for i in range(len(listName)):\n",
    "        if element == listName[i]:\n",
    "            return i\n",
    "    return -1\n",
    "\n",
    "v = [17, 92, 18, 33, 58, 7, 33, 42]\n",
    "print(search_list(v, 18))\n",
    "print(search_list(v, 1000))"
   ]
  },
  {
   "cell_type": "code",
   "execution_count": 5,
   "metadata": {},
   "outputs": [
    {
     "name": "stdout",
     "output_type": "stream",
     "text": [
      "[3]\n",
      "[2, 6]\n",
      "[]\n"
     ]
    }
   ],
   "source": [
    "def search_list(listName, element):\n",
    "    location = []\n",
    "    for i in range(len(listName)):\n",
    "        if element == listName[i]:\n",
    "            location.append(i)\n",
    "    return location\n",
    "\n",
    "v = [17, 92, 7, 18, 33, 58, 7, 33, 42]\n",
    "print(search_list(v, 18))\n",
    "print(search_list(v, 7))\n",
    "print(search_list(v, 1000))"
   ]
  },
  {
   "cell_type": "markdown",
   "metadata": {},
   "source": [
    "삽입정렬"
   ]
  },
  {
   "cell_type": "code",
   "execution_count": null,
   "metadata": {},
   "outputs": [],
   "source": [
    "# 쉽게 설명한 삽입 정렬\n",
    "\n",
    "def find_ins_idx(r,v):\n",
    "\n",
    "    for i in range(0,len(r)):\n",
    "        if v < r[i]:\n",
    "            return i\n",
    "    return len(r)\n",
    "\n",
    "\n",
    "def ins_sort(a):\n",
    "    result = []\n",
    "    while a:\n",
    "        value = a.pop(0)\n",
    "        ins_idx = find_ins_idx(result, value)\n",
    "        result.insert(ins_idx, value)\n",
    "    return result\n",
    "\n",
    "d = [2, 4, 5, 1, 3]\n",
    "print(ins_sort(d))"
   ]
  },
  {
   "cell_type": "code",
   "execution_count": 7,
   "metadata": {},
   "outputs": [
    {
     "name": "stdout",
     "output_type": "stream",
     "text": [
      "[2]\n",
      "[2, 4]\n",
      "[2, 4, 5]\n",
      "[1, 2, 4, 5]\n",
      "[1, 2, 3, 4, 5]\n",
      "[1, 2, 3, 4, 5]\n"
     ]
    }
   ],
   "source": [
    "#함수 하나로 풀어보기\n",
    "\n",
    "def sort_array(a):\n",
    "\n",
    "    result = []\n",
    "\n",
    "    for i in range(len(a)):\n",
    "        value = a[i]\n",
    "        idx = 0\n",
    "        for j in range(len(result)):\n",
    "            if value < result[j]:\n",
    "                idx = j\n",
    "                break\n",
    "            else:\n",
    "                idx = len(result)\n",
    "\n",
    "        result.insert(idx, value)\n",
    "        print(result)\n",
    "    \n",
    "    return result\n",
    "\n",
    "array1 = [2, 4, 5, 1, 3]\n",
    "print(sort_array(array1))"
   ]
  },
  {
   "cell_type": "markdown",
   "metadata": {},
   "source": [
    "일반적인 삽입 정렬 알고리즘"
   ]
  },
  {
   "cell_type": "code",
   "execution_count": null,
   "metadata": {},
   "outputs": [],
   "source": [
    "\n",
    "def ins_sort(a):\n",
    "    n = len(a)\n",
    "    for i in range(1,n):\n",
    "        key = a[i]\n",
    "        j = i - 1\n",
    "\n",
    "        while (j >= 0) & (a[j] > key):\n",
    "            a[j + 1] = a[j]\n",
    "            j -= 1\n",
    "        a[j + 1] = key\n",
    "\n",
    "d = [2, 4, 5, 1, 3]\n",
    "ins_sort(d)\n",
    "print(d)"
   ]
  },
  {
   "cell_type": "markdown",
   "metadata": {},
   "source": [
    "1. key = 4, j = 0, a[j] = 2, a[j+1] = key\n",
    "2. key = 1, j = 2, a[j] = 5\n",
    "3. while a[j+1] = a[3] = 5, j = 1\n",
    "4. while a[j+1] = a[2] = 4, j = 0\n",
    "5. while a[j+1] = a[1] = 2, j = -1\n",
    "6. a[j+1] = a[0] = key, a[0] = 1\n",
    "7. "
   ]
  },
  {
   "cell_type": "code",
   "execution_count": 8,
   "metadata": {},
   "outputs": [
    {
     "name": "stdout",
     "output_type": "stream",
     "text": [
      "[2, 4, 4, 1, 3]\n"
     ]
    }
   ],
   "source": [
    "d = [2, 4, 5, 1, 3]\n",
    "d[2] = d[1]\n",
    "print(d)"
   ]
  },
  {
   "cell_type": "code",
   "execution_count": 10,
   "metadata": {},
   "outputs": [
    {
     "name": "stdout",
     "output_type": "stream",
     "text": [
      "[1, 2, 3, 4, 5]\n"
     ]
    }
   ],
   "source": [
    "# 혼자 다시 해보기\n",
    "def sort_array2(a):\n",
    "    n = len(a)\n",
    "    for i in range(1,n):\n",
    "        key = a[i]\n",
    "        j = i - 1\n",
    "\n",
    "        while (j >= 0) & (a[j] > key):\n",
    "            a[j + 1] = a[j]\n",
    "            j -= 1\n",
    "        a[j + 1] = key\n",
    "\n",
    "\n",
    "d = [2, 4, 5, 1, 3]\n",
    "sort_array2(d)\n",
    "print(d)"
   ]
  },
  {
   "cell_type": "code",
   "execution_count": 12,
   "metadata": {},
   "outputs": [
    {
     "name": "stdout",
     "output_type": "stream",
     "text": [
      "[5, 4, 3, 2, 1]\n"
     ]
    }
   ],
   "source": [
    "# 연습문제 내림차순\n",
    "def sort_array3(a):\n",
    "    n = len(a)\n",
    "    for i in range(1,n):\n",
    "        key = a[i]\n",
    "        j = i - 1\n",
    "\n",
    "        while (j >= 0) & (a[j] < key):\n",
    "            a[j + 1] = a[j]\n",
    "            j -= 1\n",
    "        a[j + 1] = key\n",
    "\n",
    "\n",
    "d = [2, 4, 5, 1, 3]\n",
    "sort_array3(d)\n",
    "print(d)"
   ]
  },
  {
   "cell_type": "markdown",
   "metadata": {},
   "source": [
    "버블정렬"
   ]
  },
  {
   "cell_type": "code",
   "execution_count": 14,
   "metadata": {},
   "outputs": [
    {
     "name": "stdout",
     "output_type": "stream",
     "text": [
      "[2, 4, 1, 5, 3]\n",
      "[2, 4, 1, 3, 5]\n",
      "[2, 1, 4, 3, 5]\n",
      "[2, 1, 3, 4, 5]\n",
      "[1, 2, 3, 4, 5]\n",
      "[1, 2, 3, 4, 5]\n"
     ]
    }
   ],
   "source": [
    "# 직접 푼 것\n",
    "def sortByBubble(a):\n",
    "\n",
    "    while True:\n",
    "        cnt = 0\n",
    "        for i in range(len(a)-1):\n",
    "            if a[i] > a[i + 1]:\n",
    "                a[i + 1], a[i] = a[i], a[i + 1]\n",
    "                cnt += 1\n",
    "        \n",
    "        if cnt == 0:\n",
    "            break\n",
    "\n",
    "d = [2, 4, 5, 1, 3]\n",
    "sortByBubble(d)\n",
    "print(d)"
   ]
  },
  {
   "cell_type": "code",
   "execution_count": 21,
   "metadata": {},
   "outputs": [
    {
     "name": "stdout",
     "output_type": "stream",
     "text": [
      "[4, 2, 5, 1, 3]\n",
      "[5, 2, 4, 1, 3]\n",
      "[2, 5, 4, 1, 3]\n",
      "[2, 4, 5, 1, 3]\n",
      "[1, 4, 5, 2, 3]\n",
      "[1, 2, 5, 4, 3]\n",
      "[1, 2, 4, 5, 3]\n",
      "[1, 2, 3, 5, 4]\n",
      "[1, 2, 3, 4, 5]\n",
      "[1, 2, 3, 4, 5]\n"
     ]
    }
   ],
   "source": [
    "# 온라인 상에서 본 버블 정렬 알고리즘?\n",
    "\n",
    "def sortByBubble(a):\n",
    "\n",
    "    for i in range(len(a)):\n",
    "        for j in range(len(a)):\n",
    "            if a[i] < a[j]:\n",
    "                a[i], a[j] = a[j], a[i]\n",
    "                print(a)\n",
    "\n",
    "d = [2, 4, 5, 1, 3]\n",
    "sortByBubble(d)\n",
    "print(d)"
   ]
  },
  {
   "cell_type": "code",
   "execution_count": 17,
   "metadata": {},
   "outputs": [
    {
     "name": "stdout",
     "output_type": "stream",
     "text": [
      "1\n",
      "2\n",
      "3\n",
      "4\n",
      "5\n"
     ]
    }
   ],
   "source": [
    "N = int(input())\n",
    "\n",
    "M = []\n",
    "\n",
    "for i in range(N) : \n",
    "    M.append(int(input()))\n",
    "\n",
    "# Bubble Sort\n",
    "for i in range(len(M)) : \n",
    "    for j in range(len(M)) : \n",
    "        if M[i] < M[j] : \n",
    "            M[i], M[j] = M[j], M[i]\n",
    "            \n",
    "for n in M : \n",
    "    print(n)"
   ]
  },
  {
   "cell_type": "code",
   "execution_count": null,
   "metadata": {},
   "outputs": [],
   "source": [
    "# 연습문제 풀이\n",
    "def sortByBubble(a):\n",
    "    n = len(a)\n",
    "    while True:\n",
    "        changed = False    \n",
    "        for i in range(len(a)-1):\n",
    "            if a[i] > a[i + 1]:\n",
    "                a[i + 1], a[i] = a[i], a[i + 1]\n",
    "                changed = True\n",
    "        \n",
    "        if changed == False:\n",
    "            break\n",
    "\n",
    "d = [2, 4, 5, 1, 3]\n",
    "sortByBubble(d)\n",
    "print(d)"
   ]
  }
 ],
 "metadata": {
  "kernelspec": {
   "display_name": "Python 3.10.5 64-bit",
   "language": "python",
   "name": "python3"
  },
  "language_info": {
   "codemirror_mode": {
    "name": "ipython",
    "version": 3
   },
   "file_extension": ".py",
   "mimetype": "text/x-python",
   "name": "python",
   "nbconvert_exporter": "python",
   "pygments_lexer": "ipython3",
   "version": "3.10.5"
  },
  "orig_nbformat": 4,
  "vscode": {
   "interpreter": {
    "hash": "3b73bbac0916b1ec0ba594196a0e2a690610daf3e27e0d2ff201ec69ed0faaed"
   }
  }
 },
 "nbformat": 4,
 "nbformat_minor": 2
}
