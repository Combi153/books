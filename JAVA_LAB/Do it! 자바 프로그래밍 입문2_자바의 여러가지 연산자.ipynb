{
 "cells": [
  {
   "cell_type": "markdown",
   "metadata": {},
   "source": [
    "# Do it! 자바 프로그래밍 입문2_자바의 여러가지 연산자"
   ]
  },
  {
   "cell_type": "markdown",
   "metadata": {},
   "source": [
    "## 5강 : 자바의 여러가지 연산자(1)"
   ]
  },
  {
   "cell_type": "markdown",
   "metadata": {},
   "source": [
    "### 항과 연산자\n",
    "*항(operand)* : 연산에 사용되는 값\n",
    "\n",
    "*연산자(operator)* : 항을 이용하여 연산하는 기호\n",
    "\n",
    "- 항의 개수에 따른 연산자 구분\n",
    "- 단항 연산자, 이항 연산자, 삼항 연산자"
   ]
  }
 ],
 "metadata": {
  "kernelspec": {
   "display_name": "Python 3.10.5 64-bit",
   "language": "python",
   "name": "python3"
  },
  "language_info": {
   "name": "python",
   "version": "3.10.5"
  },
  "orig_nbformat": 4,
  "vscode": {
   "interpreter": {
    "hash": "3b73bbac0916b1ec0ba594196a0e2a690610daf3e27e0d2ff201ec69ed0faaed"
   }
  }
 },
 "nbformat": 4,
 "nbformat_minor": 2
}
