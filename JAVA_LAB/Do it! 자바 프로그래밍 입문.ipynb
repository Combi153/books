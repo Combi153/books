{
 "cells": [
  {
   "cell_type": "markdown",
   "metadata": {},
   "source": [
    "# Do it! 자바 프로그래밍 입문"
   ]
  },
  {
   "cell_type": "markdown",
   "metadata": {},
   "source": [
    "## 1강 : 자바 프로그래밍 시작하기"
   ]
  },
  {
   "cell_type": "markdown",
   "metadata": {},
   "source": [
    "### 프로그래밍이란 무엇일까?"
   ]
  },
  {
   "cell_type": "markdown",
   "metadata": {},
   "source": [
    "- 프로그래밍 : 컴퓨터에게 일을 하도록 명령어를 만드는 것\n",
    "- 컴파일 : 프로그램 언어를 컴퓨터가 알 수 있는 언어로 바꿔 주는 일\n",
    "- 컴파일러 : 기계어로 번역해주는 프로그램 자바를 설치하면 자바 컴파일러도 설치 됨"
   ]
  },
  {
   "cell_type": "markdown",
   "metadata": {},
   "source": [
    "#### 자바 설치\n",
    "- jdk : oracle에서 설치 JAVA 18 설치\n",
    "- jre(jvm) : JAVA 18에 포함되어 있는 듯? 환경변수 설정 완료\n",
    "- Eclipse (IDE)\n",
    "- https://crazykim2.tistory.com/478 참고\n",
    "\n",
    "*환경변수 설정 필요 이유*\n",
    "- 환경변수란 프로세스가 컴퓨터에서 동작하는 방식에 영향을 미치는 동적인 값들의 모임이다\n",
    "- 운영체제가 참조하는 변수를 환경변수라고 한다\n",
    "- 자바는 윈도우란 운영체제에 최적화된 프로그램이 아니다\n",
    "- 그러므로 윈도우에 자바란 프로그램을 사용하겠다고 선언을 해줘야한다 환경변수를 설정함으로써 이를 해결할 수 있다."
   ]
  },
  {
   "cell_type": "markdown",
   "metadata": {},
   "source": [
    "### 자바와 C 비교\n",
    "- 두 언어 모두 컴파일 기반 언어\n",
    "\n",
    "*C 소스 코드*\n",
    "- OS에 종속되어 컴파일이 된다. 윈도우, 리눅스 각각 다르게 컴파일이 된다.\n",
    "\n",
    "*자바 소스 코드*\n",
    "- 하나의 컴파일 파일로 만들어진다.\n",
    "- 자바 가상 머신에 따라 동작한다. 윈도우, 리눅스 다르게 컴파일할 필요없이, 가상머신만 바꾸면 된다.\n",
    "\n",
    "*자바의 좋은 점*\n",
    "1. 객체 지향 언어이기 때문에 유지보수가 쉽다. 확장성이 좋다.\n",
    "2. 프로그램이 안정적이다.\n",
    "3. 풍부한 기능을 제공하는 오픈 소스이다."
   ]
  },
  {
   "cell_type": "markdown",
   "metadata": {},
   "source": [
    "## 2강 :  변수와 자료형 (1)"
   ]
  },
  {
   "cell_type": "markdown",
   "metadata": {},
   "source": [
    "### 2진수, 16진수, 8진수에 대한 이해"
   ]
  },
  {
   "cell_type": "markdown",
   "metadata": {},
   "source": [
    "*2진수를 사용하는 이유*\n",
    "\n",
    "컴퓨터는 0과 1만을 이용해 데이터를 저장한다.\n",
    "- bit(비트) : 컴퓨터가 표현하는 데이터의 최소 단위로 2진수. 하나의 값을 저장할 수 있는 메모리의 크기\n",
    "- byte(바이트) : 1 byte = 8 bit"
   ]
  },
  {
   "cell_type": "markdown",
   "metadata": {},
   "source": [
    "*16진수를 사용하는 이유*\n",
    "- 4 bit를 16진수로 표현할 수 있다. 주소 등을 표현할 때 요용하게 쓰인다."
   ]
  },
  {
   "cell_type": "markdown",
   "metadata": {},
   "source": [
    "#### 기타\n",
    "- int 자료형은 32bit로 주로 사용한다."
   ]
  },
  {
   "cell_type": "markdown",
   "metadata": {},
   "source": [
    "### 음수 표현\n",
    "\n",
    "- 32bit int에서 맨 앞의 bit는 M.S.B라고 표현한다. Most Significant Bit\n",
    "- MSB가 부호를 표현한다. 0 : +, 1 : -\n",
    "\n",
    "*음수 만들기*\n",
    "- 어떤 2진수의 음수를 만드는 방법은 2의 보수를 취하는 것이다.\n",
    "1. 먼저 1의 보수(두 수의 합이 1이 되도록 하는 수)를 취한다. \n",
    "2. 맨 앞에 1을 더한다.\n",
    "3. MSB는 32bit를 넘어가서 사라진다."
   ]
  },
  {
   "cell_type": "markdown",
   "metadata": {},
   "source": [
    "## 3강 : 변수와 자료형 (2)"
   ]
  },
  {
   "cell_type": "markdown",
   "metadata": {},
   "source": [
    "### 변수(Variable)\n",
    "\n",
    "변수란 프로그램에서 사용되는 자료를 저장하기 위한 공간이다.\n",
    "- 할당받은 메모리의 주소 대신 부르는 이름이 변수이다.\n",
    "- 프로그램 실행 중에 값 변경이 가능하며, 사용되기 이전에 반드시 '선언'되어야 한다.\n",
    "- 변수에 값을 저장하는 것을 '초기화'라고 한다."
   ]
  },
  {
   "cell_type": "markdown",
   "metadata": {},
   "source": [
    "#### 변수 선언 시 유의점\n",
    "- 숫자로 시작할 수 없다.\n",
    "- 키워드를 변수의 이름으로 시작할 수 없다.\n",
    "- 변수 이름에 의미를 부여하여 코드의 가독성을 높이자.\n",
    "- 가령, ns와 numberOfStudent 중 후자를 알아보기 쉽다."
   ]
  },
  {
   "cell_type": "markdown",
   "metadata": {},
   "source": [
    "#### Naming Convention\n",
    ": 프로그래밍에서 파일, 변수, 함수 등 대상의 이름을 띄어쓰기 없이 짓기 위하여 따르는 관례\n",
    "\n",
    "*Camel case (낙타 표기법)* : 단어 전체적으로 소문자를 사용하고, 맨 첫 글자를 제외한 각 합성어의 첫 글자만 대문자로 표기한다.\n",
    "- camelCase (일반적인 변수)\n",
    "- isCamelCase (Boolean 타입 변수)\n",
    "\n",
    "*Snake case (스네이크 표기법)* : 띄어쓰기를 언더바(_)로 표기한다.\n",
    "- camel_case\n",
    "- is_camel_case\n",
    "\n",
    "*기타 참고* : https://needjarvis.tistory.com/632"
   ]
  },
  {
   "cell_type": "markdown",
   "metadata": {},
   "source": [
    "### 자료형\n",
    "변수가 저장되는 공간의 특성이다.\n",
    "\n",
    "\n",
    "![](image\\dataType.PNG)\n",
    "\n",
    "- 변수가 사용할 공간의 크기와 특성에 따라 자료형을 사용하여 변수를 선언한다."
   ]
  },
  {
   "cell_type": "markdown",
   "metadata": {},
   "source": [
    "#### 정수 자료형\n",
    " \n",
    "\n",
    "![](image\\intType.PNG)"
   ]
  },
  {
   "cell_type": "markdown",
   "metadata": {},
   "source": [
    "#### Byte와 Short\n",
    "*byte*\n",
    "- 1바이트 단위의 자료형\n",
    "- 동영상, 음악 파일 등 실행 파일의 자료를 처리할 때 사용하기 좋은 자료형\n",
    "\n",
    "*short*\n",
    "- 2바이트 단위의 자료형\n",
    "- 주로 c/c++ 언어와 호환 시 사용"
   ]
  },
  {
   "cell_type": "markdown",
   "metadata": {},
   "source": [
    "#### int\n",
    "자바에서 사용하는 정수에 대한 기본 자료형\n",
    "- 4바이트 단위\n",
    "- 프로그램에서 사용하는 모든 숫자(literal)은 int(4바이트)로 저장된다.\n",
    "- 32 비트를 초과하는 숫자는 long 형으로 처리해야 한다."
   ]
  },
  {
   "cell_type": "markdown",
   "metadata": {},
   "source": [
    "#### Long\n",
    "- 8바이트 자료형\n",
    "- 가장 큰 정수 자료형\n",
    "- 숫자의 뒤에 L 또는 l 을 써서 long 형임을 표시해야 한다.\n",
    "- literal이 4바이트 혹은 32비트의 범위를 넘어가기 때문이다. L을 붙이면 8바이트로 저장하게 된다.\n",
    "- long 형 사용 예시)\n",
    "![](\\image\\longTypeEX.PNG)\n"
   ]
  },
  {
   "cell_type": "markdown",
   "metadata": {},
   "source": [
    "#### Char_문자 자료형\n",
    "- 컴퓨터에서는 문자도 내부적으로는 비트의 조합으로 표현\n",
    "- 자바에서는 문자를 2 바이트로 처리\n",
    "- 인코딩 : 각 문자에 따른 특정한 숫자 값(코드 값)을 부여\n",
    "- 디코딩 : 숫자 값을 원래의 문자로 변환\n",
    "- 예시) 'A' -> 65 : 인코딩, 65 -> 'A' : 디코딩"
   ]
  },
  {
   "cell_type": "markdown",
   "metadata": {},
   "source": [
    "#### 문자세트\n",
    "- 문자세트 : 문자를 위한 코드 값들을 정해놓은 세트\n",
    "- 아스키, 유니코드\n",
    "- 자바는 유니코드 UTF-16 인코딩 사용한다."
   ]
  },
  {
   "cell_type": "markdown",
   "metadata": {},
   "source": [
    "#### float, double _ 실수 자료형\n",
    "*부동 소수점 방식*\n",
    "- 실수를 지수부와 가수부로 표현한다.\n",
    "- 무한의 실수를 표현하기 위한 방식\n",
    "- 예시) 0.1을 표현하는 방식\n",
    "- 실수 자료형 : float(4 byte), double(8 byte)\n",
    "- ![](\\image\\flaot_Double.PNG)\n",
    "- 실수는 기본적으로 double로 표현함\n",
    "- float을 쓰기 위해서는 식별자 F or f를 사용\n"
   ]
  },
  {
   "cell_type": "markdown",
   "metadata": {},
   "source": [
    "#### 자료형 없이 변수 사용하기 (자바 10 이후)\n",
    "\n",
    "*자료형이 필요한 이유 :*\n",
    "- 변수를 선언할 때는 변수가 사용할 메모리 크기와 타입을 구분하기 위해 자료형을 사용한다.\n",
    "- 스크립트 언어와 달리 컴파일 언어인 자바는 자료형을 선언해야한다.\n",
    "\n",
    "*지역변수 자료형 추론(local variable type inference) :*\n",
    "- 변수에 대입되는 값을 보고 컴파일러가 자료형을 추론해준다.\n",
    "- 지역변수에서만 사용할 수 있다.\n"
   ]
  },
  {
   "cell_type": "markdown",
   "metadata": {},
   "source": [
    "## 4강 :  변수와 자료형 (3)"
   ]
  },
  {
   "cell_type": "markdown",
   "metadata": {},
   "source": [
    "### 상수\n",
    ": 변하지 않는 값(cf. 변수 : 변하는 값)\n",
    "- 상수를 선언하는 법 final 키워드 사용\n",
    "- final double PI = 3.14;\n",
    "- final int MAX_NUM = 100;\n",
    "- final로 선언된 상수는 다른 값을 대입할 수 없다."
   ]
  },
  {
   "cell_type": "markdown",
   "metadata": {},
   "source": [
    "### 리터럴 (literal)\n",
    ": 프로그램에서 사용하는 모든 숫자, 값, 논리값\n",
    "- 예) 10, 3.14, 'A', true\n",
    "- 리터럴에 해당되는 값은 특정 메모리 공간인 상수 풀(constant pool)에 있다.\n",
    "- 상수 풀에 저장할 때 정수는 int, 실수는 double로 저장\n",
    "- long이나 float 값으로 저장해야 하는 경우 식별자를 명시"
   ]
  },
  {
   "cell_type": "markdown",
   "metadata": {},
   "source": []
  }
 ],
 "metadata": {
  "language_info": {
   "name": "python"
  },
  "orig_nbformat": 4
 },
 "nbformat": 4,
 "nbformat_minor": 2
}
